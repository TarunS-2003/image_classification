{
  "cells": [
    {
      "cell_type": "code",
      "execution_count": 3,
      "metadata": {
        "id": "WzA99iVVoZ_Y"
      },
      "outputs": [],
      "source": [
        "import tensorflow as tf"
      ]
    },
    {
      "cell_type": "code",
      "execution_count": 4,
      "metadata": {
        "id": "ygO374_LEZYD"
      },
      "outputs": [],
      "source": [
        "from tensorflow import keras\n",
        "from keras import layers\n",
        "from keras.models import Sequential, load_model"
      ]
    },
    {
      "cell_type": "code",
      "execution_count": 5,
      "metadata": {
        "id": "rRJMaeOLEpZ7"
      },
      "outputs": [],
      "source": [
        "model = load_model('dogvcat.keras')"
      ]
    },
    {
      "cell_type": "code",
      "execution_count": 6,
      "metadata": {
        "id": "rEA2aGkoHvPB"
      },
      "outputs": [],
      "source": [
        "import cv2\n",
        "import matplotlib.pyplot as plt\n",
        "import requests\n",
        "import os"
      ]
    },
    {
      "cell_type": "code",
      "execution_count": null,
      "metadata": {
        "id": "Am_CFWtBfjJd"
      },
      "outputs": [],
      "source": [
        "!pip install anvil-uplink"
      ]
    },
    {
      "cell_type": "code",
      "execution_count": null,
      "metadata": {
        "colab": {
          "base_uri": "https://localhost:8080/"
        },
        "id": "UOZi6TRlh-pJ",
        "outputId": "fb1b451b-7580-4a77-c1ec-a2e1ff92737c"
      },
      "outputs": [],
      "source": [
        "import anvil.server\n",
        "\n",
        "anvil.server.connect(\"connection-key\")"
      ]
    },
    {
      "cell_type": "code",
      "execution_count": 9,
      "metadata": {
        "id": "NRVZzEq1yKco"
      },
      "outputs": [],
      "source": [
        "def cat_or_dog():\n",
        "\n",
        "  img = cv2.imread('downloaded_image.jpg')\n",
        "  img = cv2.resize(img,(256,256))\n",
        "  img = img.reshape((1,256,256,3))\n",
        "\n",
        "  label = model.predict(img)\n",
        "  if label > 0.5:\n",
        "    return \"Dog\"\n",
        "  else:\n",
        "    return \"Cat\""
      ]
    },
    {
      "cell_type": "code",
      "execution_count": 10,
      "metadata": {
        "id": "J-pCIbEjyJO1"
      },
      "outputs": [],
      "source": [
        "def download_image(url, save_path):\n",
        "    response = requests.get(url)\n",
        "    if response.status_code == 200:\n",
        "        with open(save_path, 'wb') as file:\n",
        "            file.write(response.content)\n",
        "        return 1\n",
        "    else:\n",
        "        return 0"
      ]
    },
    {
      "cell_type": "code",
      "execution_count": 11,
      "metadata": {
        "id": "AbeAov1Jg5ko"
      },
      "outputs": [],
      "source": [
        "@anvil.server.callable\n",
        "\n",
        "def predict_category(url):\n",
        "  save_path = 'downloaded_image.jpg'\n",
        "  status = download_image(url,save_path)\n",
        "\n",
        "  if status:\n",
        "    return(cat_or_dog())\n",
        "  else:\n",
        "    return(None)"
      ]
    }
  ],
  "metadata": {
    "accelerator": "GPU",
    "colab": {
      "gpuType": "T4",
      "provenance": []
    },
    "kernelspec": {
      "display_name": "Python 3",
      "name": "python3"
    },
    "language_info": {
      "name": "python"
    }
  },
  "nbformat": 4,
  "nbformat_minor": 0
}
