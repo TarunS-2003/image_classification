{
  "cells": [
    {
      "cell_type": "code",
      "execution_count": null,
      "metadata": {
        "id": "dsBmU-MkZxXI"
      },
      "outputs": [],
      "source": [
        "import os\n",
        "import tensorflow as tf\n",
        "import numpy as np\n",
        "import matplotlib.pyplot as plt"
      ]
    },
    {
      "cell_type": "code",
      "execution_count": null,
      "metadata": {
        "id": "dTwdSaN6Z6CQ"
      },
      "outputs": [],
      "source": [
        "from tensorflow import keras\n",
        "from keras import layers\n",
        "from keras.models import Sequential\n",
        "from keras.regularizers import l1,l2"
      ]
    },
    {
      "cell_type": "code",
      "execution_count": null,
      "metadata": {
        "id": "hOtT5qq4qrrl"
      },
      "outputs": [],
      "source": [
        "!mkdir -p ~/.kaggle\n",
        "!cp kaggle.json ~/.kaggle/"
      ]
    },
    {
      "cell_type": "code",
      "execution_count": null,
      "metadata": {
        "colab": {
          "base_uri": "https://localhost:8080/"
        },
        "id": "A8z31_zCqxN2",
        "outputId": "97fef6bc-509c-4fd1-981b-a5570f894cb5"
      },
      "outputs": [],
      "source": [
        "!kaggle datasets download -d salader/dogs-vs-cats"
      ]
    },
    {
      "cell_type": "code",
      "execution_count": null,
      "metadata": {
        "id": "EGJz9CXYrdST"
      },
      "outputs": [],
      "source": [
        "import zipfile\n",
        "\n",
        "zip_ref = zipfile.ZipFile('/content/dogs-vs-cats.zip','r')\n",
        "zip_ref.extractall('/content')\n",
        "zip_ref.close()"
      ]
    },
    {
      "cell_type": "code",
      "execution_count": null,
      "metadata": {
        "colab": {
          "base_uri": "https://localhost:8080/",
          "height": 442
        },
        "id": "e0tZoVKKc-2Y",
        "outputId": "8e4799b1-ed7d-461a-8c6f-66338c290d6a"
      },
      "outputs": [],
      "source": [
        "cat_count = len(os.listdir('/content/train/cats'))\n",
        "dog_count = len(os.listdir('/content/train/dogs'))\n",
        "\n",
        "counts = [cat_count,dog_count]\n",
        "print(counts)\n",
        "\n",
        "plt.pie(counts,startangle = 90) #Perfectly balanced dataset\n",
        "plt.legend(labels = ['Cats', 'Dogs'])"
      ]
    },
    {
      "cell_type": "code",
      "execution_count": null,
      "metadata": {
        "id": "EvAuzgduQuuW"
      },
      "outputs": [],
      "source": [
        "#Parameters\n",
        "\n",
        "img_height = 256\n",
        "img_width = 256"
      ]
    },
    {
      "cell_type": "code",
      "execution_count": null,
      "metadata": {
        "colab": {
          "base_uri": "https://localhost:8080/"
        },
        "id": "l_kKYmOqRKhT",
        "outputId": "2c053ac4-9f41-4371-d03e-5ed9f79e6009"
      },
      "outputs": [],
      "source": [
        "train = keras.utils.image_dataset_from_directory(\n",
        "    directory = '/content/train',\n",
        "    labels = 'inferred',\n",
        "    label_mode = 'int',\n",
        "    batch_size = 32,\n",
        "    image_size = (img_height,img_width)\n",
        ")"
      ]
    },
    {
      "cell_type": "code",
      "execution_count": null,
      "metadata": {
        "colab": {
          "base_uri": "https://localhost:8080/"
        },
        "id": "F1l0WJGdSdgH",
        "outputId": "11efba51-eee6-4383-82d5-91e65c52185b"
      },
      "outputs": [],
      "source": [
        "validation = keras.utils.image_dataset_from_directory(\n",
        "    directory = '/content/test',\n",
        "    labels = 'inferred',\n",
        "    label_mode = 'int',\n",
        "    batch_size = 32,\n",
        "    image_size = (img_height,img_width)\n",
        ")"
      ]
    },
    {
      "cell_type": "code",
      "execution_count": null,
      "metadata": {
        "id": "l4oAN2Syo-th"
      },
      "outputs": [],
      "source": [
        "model = Sequential()\n",
        "\n",
        "model.add(layers.Rescaling(1./255, input_shape = (img_height, img_width, 3)))\n",
        "\n",
        "model.add(layers.Conv2D(32, kernel_size = (3,3), activation = 'relu'))\n",
        "model.add(layers.BatchNormalization())\n",
        "model.add(layers.MaxPooling2D(pool_size = (2,2), strides = 2))\n",
        "\n",
        "model.add(layers.Conv2D(64, kernel_size = (3,3),  activation = 'relu'))\n",
        "model.add(layers.BatchNormalization())\n",
        "model.add(layers.MaxPooling2D(pool_size = (2,2), strides = 2))\n",
        "\n",
        "model.add(layers.Conv2D(128, kernel_size = (3,3), activation = 'relu'))\n",
        "model.add(layers.BatchNormalization())\n",
        "model.add(layers.MaxPooling2D(pool_size = (2,2), strides = 2))\n",
        "\n",
        "model.add(layers.Conv2D(256, kernel_size = (3,3), activation = 'relu'))\n",
        "model.add(layers.BatchNormalization())\n",
        "model.add(layers.MaxPooling2D(pool_size = (2,2), strides = 2))\n",
        "\n",
        "model.add(layers.Flatten())\n",
        "\n",
        "model.add(layers.Dense(128, activation = 'relu'))\n",
        "model.add(layers.Dropout(0.25))\n",
        "model.add(layers.Dense(64, activation = 'relu'))\n",
        "model.add(layers.Dropout(0.25))\n",
        "\n",
        "model.add(layers.Dense(1, activation = 'sigmoid'))"
      ]
    },
    {
      "cell_type": "code",
      "execution_count": null,
      "metadata": {
        "id": "C17GmM9KWXeO"
      },
      "outputs": [],
      "source": [
        "#Compiling the model\n",
        "\n",
        "model.compile(optimizer='adam',\n",
        "              loss='binary_crossentropy',\n",
        "              metrics=['accuracy'])"
      ]
    },
    {
      "cell_type": "code",
      "execution_count": null,
      "metadata": {
        "id": "N7RHmqMdYIQc"
      },
      "outputs": [],
      "source": [
        "#Summary\n",
        "\n",
        "model.summary()"
      ]
    },
    {
      "cell_type": "code",
      "execution_count": null,
      "metadata": {
        "colab": {
          "base_uri": "https://localhost:8080/"
        },
        "id": "w8ThchZkYFRP",
        "outputId": "7fa6be8d-3779-4bff-fe32-8d005d062d4c"
      },
      "outputs": [],
      "source": [
        "hist = model.fit(\n",
        "    train,\n",
        "    validation_data = validation,\n",
        "    epochs = 15\n",
        ")"
      ]
    },
    {
      "cell_type": "code",
      "execution_count": null,
      "metadata": {
        "colab": {
          "base_uri": "https://localhost:8080/",
          "height": 699
        },
        "id": "Uey7iUKNIssb",
        "outputId": "06d8680b-bf7f-48af-a522-1823333807d6"
      },
      "outputs": [],
      "source": [
        "acc = hist.history['accuracy']\n",
        "val_acc = hist.history['val_accuracy']\n",
        "\n",
        "loss = hist.history['loss']\n",
        "val_loss = hist.history['val_loss']\n",
        "\n",
        "epochs_range = range(15)\n",
        "\n",
        "plt.figure(figsize=(8, 8))\n",
        "plt.subplot(1, 2, 1)\n",
        "plt.plot(epochs_range, acc, label='Training Accuracy')\n",
        "plt.plot(epochs_range, val_acc, label='Validation Accuracy')\n",
        "plt.legend(loc='lower right')\n",
        "plt.title('Training and Validation Accuracy')\n",
        "\n",
        "plt.subplot(1, 2, 2)\n",
        "plt.plot(epochs_range, loss, label='Training Loss')\n",
        "plt.plot(epochs_range, val_loss, label='Validation Loss')\n",
        "plt.legend(loc='upper right')\n",
        "plt.title('Training and Validation Loss')\n",
        "plt.show()"
      ]
    },
    {
      "cell_type": "code",
      "execution_count": null,
      "metadata": {
        "id": "7jZoe_qfbKpQ"
      },
      "outputs": [],
      "source": [
        "import cv2\n",
        "\n",
        "def predict_label():\n",
        "  img = cv2.imread('downloaded_image.jpg')\n",
        "\n",
        "  img = cv2.resize(img,(256,256))\n",
        "  img = img.reshape((1, 256, 256, 3))\n",
        "  label = model.predict(img)\n",
        "\n",
        "  if label > 0.5:\n",
        "    print(\"Dog\")\n",
        "  else:\n",
        "    print(\"Cat\")\n",
        "  print(label)"
      ]
    },
    {
      "cell_type": "code",
      "execution_count": null,
      "metadata": {
        "colab": {
          "base_uri": "https://localhost:8080/"
        },
        "id": "DLnVPeoDnsPv",
        "outputId": "800ef784-1c0f-4bbb-980d-e8f26c9468d4"
      },
      "outputs": [],
      "source": [
        "import requests\n",
        "import os\n",
        "\n",
        "def download_image(url, save_path):\n",
        "    response = requests.get(url)\n",
        "    if response.status_code == 200:\n",
        "        with open(save_path, 'wb') as file:\n",
        "            file.write(response.content)\n",
        "        print(f\"Image downloaded successfully and saved at {save_path}\")\n",
        "    else:\n",
        "        print(f\"Failed to download image. Status code: {response.status_code}\")\n",
        "    predict_label()\n",
        "\n",
        "image_url = input(\"Enter an URL:\")\n",
        "save_path = \"downloaded_image.jpg\"\n",
        "\n",
        "download_image(image_url, save_path)"
      ]
    }
  ],
  "metadata": {
    "accelerator": "GPU",
    "colab": {
      "gpuType": "T4",
      "provenance": []
    },
    "kernelspec": {
      "display_name": "Python 3",
      "name": "python3"
    },
    "language_info": {
      "name": "python"
    }
  },
  "nbformat": 4,
  "nbformat_minor": 0
}
